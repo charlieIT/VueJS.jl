{
 "cells": [
  {
   "cell_type": "code",
   "execution_count": 1,
   "metadata": {},
   "outputs": [],
   "source": [
    "push!(LOAD_PATH,\"/workspace/VueJS.jl/src/\")\n",
    "using VueJS,HTTP"
   ]
  },
  {
   "cell_type": "markdown",
   "metadata": {},
   "source": [
    "### Computed Props\n",
    "- Calculated props\n",
    "- Triggered when the dependent vars change (reactive)"
   ]
  },
  {
   "cell_type": "code",
   "execution_count": 2,
   "metadata": {},
   "outputs": [],
   "source": [
    "@el(number,\"v-text-field\",label=\"Number\",type=\"number\",cols=2)\n",
    "@el(number2,\"v-text-field\",label=\"Number2\",type=\"number\",cols=2, binds=Dict(\"value\"=>\"comp\"))\n",
    "\n",
    "p1=page([number,number2],\n",
    "    computed=Dict(\"comp\"=>\"\"\"function(){return number*2}\"\"\"), ## comp will always be number*2 and is updated when number changes\n",
    "    asynccomputed=Dict(\"comp2\"=>\"\"\"function(){return this.submit('login',{a:this.number.value}).then(x=>x.responseText)}\"\"\")); ## asynccomputed shoould be used with async values e.g promises in submit function\n",
    "   "
   ]
  }
 ],
 "metadata": {
  "kernelspec": {
   "display_name": "Julia 1.6.0-rc3",
   "language": "julia",
   "name": "julia-1.6"
  },
  "language_info": {
   "file_extension": ".jl",
   "mimetype": "application/julia",
   "name": "julia",
   "version": "1.6.0"
  }
 },
 "nbformat": 4,
 "nbformat_minor": 4
}
